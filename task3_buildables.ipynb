{
 "cells": [
  {
   "cell_type": "markdown",
   "id": "1b66bc05",
   "metadata": {},
   "source": [
    "### TASK3"
   ]
  },
  {
   "cell_type": "code",
   "execution_count": null,
   "id": "8d9c05a6",
   "metadata": {},
   "outputs": [],
   "source": [
    "# 1. Variables & Data Types: Create variables of type int, float, string, and list. Print their values and types.\n",
    "\n",
    "age = 21\n",
    "height = 5.10\n",
    "name = \"Basit\" \n",
    "hobbies = [\"gym\", \"gaming\", \"coding\"]\n",
    "\n",
    "print(\"Age:\", age)\n",
    "print(f\"Height: {height: .2f}\")\n",
    "print(\"Name:\", name)\n",
    "print(\"Hobbies:\", hobbies)"
   ]
  },
  {
   "cell_type": "code",
   "execution_count": null,
   "id": "0990b946",
   "metadata": {},
   "outputs": [],
   "source": [
    "#2. Conditionals: Write a program that checks whether a given number is positive, negative, or zero.\n",
    "\n",
    "number = float(input(\"Enter a number: \"))\n",
    "if number > 0:\n",
    "    print(\"The number is positive.\")\n",
    "elif number < 0:\n",
    "    print(\"The number is negative.\")\n",
    "else:\n",
    "    print(\"The number is zero.\")\n",
    "    \n"
   ]
  },
  {
   "cell_type": "code",
   "execution_count": null,
   "id": "d29adddd",
   "metadata": {},
   "outputs": [],
   "source": [
    "#3. Loops: Write a program to print the first 10 natural numbers using a loop. Write a program to calculate the factorial of a number using a loop.\n",
    "\n",
    "print(\"First 10 natural numbers:\")\n",
    "for i in range(1, 11):\n",
    "    print(i, end=' ')\n",
    "print()  # for newline\n",
    "\n",
    "num = int(input(\"Enter a number to calculate its factorial: \"))\n",
    "factorial = 1\n",
    "for i in range(1, num + 1):\n",
    "    factorial *= i\n",
    "print(f\"The factorial of {num} is {factorial}\")\n",
    "\n",
    "\n",
    "\n",
    "\n",
    "\n",
    "\n",
    "\n",
    "\n"
   ]
  },
  {
   "cell_type": "code",
   "execution_count": null,
   "id": "bbee3845",
   "metadata": {},
   "outputs": [],
   "source": [
    "#4. Functions: Write a function greet(name) that prints \"Hello, <name>!\". Write a function is_even(num) that returns True if a number is even, False otherwise.\n",
    "\n",
    "\n",
    "\n",
    "def greet():\n",
    "    print(f\"Hello, {name}!\")\n",
    "\n",
    "\n",
    "\n",
    "def is_even():\n",
    "    if num % 2 == 0:\n",
    "        return True\n",
    "    else:\n",
    "        return False\n",
    "    \n",
    "\n",
    "name = str(input(\"Enter your name: \"))\n",
    "greet()\n",
    "num = int(input(\"Enter a number: \"))\n",
    "is_even()\n",
    "\n"
   ]
  },
  {
   "cell_type": "code",
   "execution_count": null,
   "id": "8518fb22",
   "metadata": {},
   "outputs": [],
   "source": [
    "#5. List Operations: Create a list of 5 numbers. Find the max, min, sum, and average using built-in functions. Sort the list and reverse it.\n",
    "\n",
    "numbers=[11,-9,-7,33,1004]\n",
    "\n",
    "print(\"Maximun in the list is:\", max(numbers))\n",
    "print(\"Minimum in the list is:\", min(numbers))\n",
    "print(\"Sum of the numbers in the list is:\", sum(numbers))\n",
    "print(\"Average of the numbers in the list is:\", sum(numbers)/len(numbers))\n",
    "\n",
    "\n"
   ]
  },
  {
   "cell_type": "code",
   "execution_count": null,
   "id": "19860604",
   "metadata": {},
   "outputs": [],
   "source": [
    "#6. Input/Output: Write a program that takes a user’s name and age as input and prints: \"Hello <name>, you are <age> years old.\"\n",
    "\n",
    "name = str(input(\"Enter your name: \"))\n",
    "age = int(input(\"Enter your age: \"))\n",
    "\n",
    "print(f\"Hello {name}, you are {age} years old.\")\n"
   ]
  }
 ],
 "metadata": {
  "kernelspec": {
   "display_name": "Python 3",
   "language": "python",
   "name": "python3"
  },
  "language_info": {
   "codemirror_mode": {
    "name": "ipython",
    "version": 3
   },
   "file_extension": ".py",
   "mimetype": "text/x-python",
   "name": "python",
   "nbconvert_exporter": "python",
   "pygments_lexer": "ipython3",
   "version": "3.13.3"
  }
 },
 "nbformat": 4,
 "nbformat_minor": 5
}
